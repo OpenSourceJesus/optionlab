{
 "cells": [
  {
   "cell_type": "markdown",
   "metadata": {},
   "source": [
    "# Probability of profit (PoP) calculator with Black-Scholes model\n",
    "\n",
    "This notebook can be used to calculate the PoP of an option strategy using the famous [Black-Scholes model](https://www.investopedia.com/terms/b/blackscholes.asp).\n",
    "\n",
    "**Caveat: Options are very risky derivatives and, like any other type of financial vehicle, trading options requires due diligence.**"
   ]
  },
  {
   "cell_type": "code",
   "execution_count": 1,
   "metadata": {},
   "outputs": [],
   "source": [
    "from __future__ import print_function\n",
    "from __future__ import division\n",
    "import sys\n",
    "from optionlab import __version__\n",
    "from optionlab.black_scholes import get_d1_d2\n",
    "from optionlab.support import getPoP\n",
    "from scipy import stats"
   ]
  },
  {
   "cell_type": "code",
   "execution_count": 2,
   "metadata": {},
   "outputs": [
    {
     "name": "stdout",
     "output_type": "stream",
     "text": [
      "Python version: 3.7.6 (default, Jan  8 2020, 20:23:39) [MSC v.1916 64 bit (AMD64)]\n",
      "optionlab version: 0.1\n"
     ]
    }
   ],
   "source": [
    "print(\"Python version: %s\" % sys.version)\n",
    "print(\"optionlab version: %s\" % __version__)"
   ]
  },
  {
   "cell_type": "markdown",
   "metadata": {},
   "source": [
    "## Input\n",
    "\n",
    "You must provide the spot price of the underlying asset, the minimum and maximum stock prices of the underlying asset in the price range for which the option strategy is profitable, the risk-free interest rate (as a percentage), the volatility (also as a percentage), and the number of days remaining to the option expiration."
   ]
  },
  {
   "cell_type": "code",
   "execution_count": 3,
   "metadata": {},
   "outputs": [],
   "source": [
    "stockprice=100\n",
    "s1,s2=100,110\n",
    "interestrate=1\n",
    "volatility=20\n",
    "days2maturity=60"
   ]
  },
  {
   "cell_type": "markdown",
   "metadata": {},
   "source": [
    "Before estimating the PoP, the risk-free interest rate and volatility are converted from percentage to fractional and time remaining to option expiration is converted from days to years."
   ]
  },
  {
   "cell_type": "code",
   "execution_count": 4,
   "metadata": {},
   "outputs": [],
   "source": [
    "interestrate=interestrate/100\n",
    "volatility=volatility/100\n",
    "time2maturity=days2maturity/365"
   ]
  },
  {
   "cell_type": "markdown",
   "metadata": {},
   "source": [
    "## Output from $d_2$"
   ]
  },
  {
   "cell_type": "code",
   "execution_count": 5,
   "metadata": {},
   "outputs": [
    {
     "name": "stdout",
     "output_type": "stream",
     "text": [
      "===> Probability of Profit (PoP) from d2: 37.60\n"
     ]
    }
   ],
   "source": [
    "d2=[get_d1_d2(stockprice,s1,interestrate,volatility,time2maturity)[1],\n",
    "    get_d1_d2(stockprice,s2,interestrate,volatility,time2maturity)[1]]\n",
    "pop1=stats.norm.cdf(d2[0])-stats.norm.cdf(d2[1])\n",
    "print(\"===> Probability of Profit (PoP) from d2: %.2f\" % (pop1*100))"
   ]
  },
  {
   "cell_type": "markdown",
   "metadata": {},
   "source": [
    "## Output from *getPoP()*"
   ]
  },
  {
   "cell_type": "code",
   "execution_count": 6,
   "metadata": {},
   "outputs": [
    {
     "name": "stdout",
     "output_type": "stream",
     "text": [
      "===> Probability of Profit (PoP) from getPoP(): 37.60\n"
     ]
    }
   ],
   "source": [
    "pop2=getPoP([[s1,s2]],\"black-scholes\",stockprice=stockprice,volatility=volatility,interestrate=interestrate,\n",
    "            time2maturity=time2maturity)\n",
    "print(\"===> Probability of Profit (PoP) from getPoP(): %.2f\" % (pop2*100))"
   ]
  },
  {
   "cell_type": "code",
   "execution_count": null,
   "metadata": {},
   "outputs": [],
   "source": []
  }
 ],
 "metadata": {
  "kernelspec": {
   "display_name": "Python 3",
   "language": "python",
   "name": "python3"
  },
  "language_info": {
   "codemirror_mode": {
    "name": "ipython",
    "version": 3
   },
   "file_extension": ".py",
   "mimetype": "text/x-python",
   "name": "python",
   "nbconvert_exporter": "python",
   "pygments_lexer": "ipython3",
   "version": "3.7.6"
  }
 },
 "nbformat": 4,
 "nbformat_minor": 4
}
